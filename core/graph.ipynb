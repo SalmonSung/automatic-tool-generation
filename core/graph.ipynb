{
 "cells": [
  {
   "cell_type": "code",
   "id": "initial_id",
   "metadata": {
    "collapsed": true
   },
   "source": [
    "from langgraph.checkpoint.memory import MemorySaver\n",
    "from core.graph import builder\n",
    "from dotenv import load_dotenv\n",
    "\n",
    "load_dotenv()\n",
    "# Create a memory-based checkpointer and compile the graph\n",
    "# This enables state persistence and tracking throughout the workflow execution\n",
    "\n",
    "memory = MemorySaver()\n",
    "graph = builder.compile(checkpointer=memory)"
   ],
   "outputs": [],
   "execution_count": null
  },
  {
   "metadata": {},
   "cell_type": "code",
   "source": [
    "import uuid\n",
    "from IPython.display import Markdown\n",
    "\n",
    "thread = {\"configurable\": {\"thread_id\": str(uuid.uuid4()),\n",
    "                           \"planner_provider\": \"openai\",\n",
    "                           \"planner_model\": \"o3-mini\",\n",
    "                           \"writer_provider\": \"openai\",\n",
    "                           \"writer_model\": \"gpt-4.1-nano\",\n",
    "                           \"file_type\": \"CSV\",\n",
    "                           \"index4file\": \"true\",\n",
    "                           \"Breadth\": 2\n",
    "                           }}\n",
    "\n",
    "# Define research topic about Model Context Protocol\n",
    "file_path = r\"C:\\Users\\kaiyi\\Desktop\\github\\automatic-tool-generation\\dataset\\synthetic_server_metrics.csv\"\n",
    "event = {\"orig_file_path\": file_path,}\n",
    "# Run the graph workflow until first interruption (waiting for user feedback)\n",
    "s_lists = []\n",
    "# for s in graph.stream(event, thread, stream_mode=\"updates\", subgraphs=True):\n",
    "#     print(\"================================\")\n",
    "#     print(s)\n",
    "#     s_lists.append(s)\n",
    "async for s in graph.astream(event, thread, stream_mode=\"updates\"):\n",
    "    print(\"================================\")\n",
    "    print(s)\n",
    "    s_lists.append(s)\n",
    "print(\"======================================\")\n",
    "\n",
    "#     if '__interrupt__' in event:\n",
    "#         interrupt_value = event['__interrupt__'][0].value\n",
    "#         display(Markdown(interrupt_value))"
   ],
   "id": "37c5fad018809e10",
   "outputs": [],
   "execution_count": null
  },
  {
   "metadata": {},
   "cell_type": "code",
   "source": [
    "# print(f'=======SPACE_HOLDER========')\n",
    "# print(s_lists[-1]['space_holder'])\n",
    "# print(f'=======orig_file_path========')\n",
    "# print(s_lists[-1]['space_holder']['orig_file_path'])\n",
    "print(f'=======code_approval_items========')\n",
    "# print(s_lists[-1]['space_holder']['code_approval_items'])\n",
    "code_approval_items_list = s_lists[-1]['space_holder']['code_approval_items']\n",
    "for item in code_approval_items_list:\n",
    "    print(\"================================\")\n",
    "    if not isinstance(item, list):\n",
    "        i = item.model_dump()\n",
    "        print(type(i))\n",
    "        print(i.keys())\n",
    "        print(type(list(i.keys())))\n",
    "    else:\n",
    "        i = item[0]\n",
    "        i = i.model_dump()\n",
    "        print(type(i))\n",
    "\n",
    "    # print(item)"
   ],
   "id": "64c6d2e22d5401e8",
   "outputs": [],
   "execution_count": null
  }
 ],
 "metadata": {
  "kernelspec": {
   "display_name": "Python 3",
   "language": "python",
   "name": "python3"
  },
  "language_info": {
   "codemirror_mode": {
    "name": "ipython",
    "version": 2
   },
   "file_extension": ".py",
   "mimetype": "text/x-python",
   "name": "python",
   "nbconvert_exporter": "python",
   "pygments_lexer": "ipython2",
   "version": "2.7.6"
  }
 },
 "nbformat": 4,
 "nbformat_minor": 5
}
